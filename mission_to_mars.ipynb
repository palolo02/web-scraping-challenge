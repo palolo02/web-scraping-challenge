{
 "cells": [
  {
   "cell_type": "code",
   "execution_count": null,
   "metadata": {},
   "outputs": [],
   "source": [
    "# Web Scrapping Task\n",
    "# Paolo Vega\n",
    "# Bootcamp\n",
    "# Version 1.0.0 May 23, 2020\n",
    "# Version 1.0.1 May 23, 2020\n",
    "# Version 1.0.2 May 24, 2020"
   ]
  },
  {
   "cell_type": "code",
   "execution_count": 1,
   "metadata": {},
   "outputs": [],
   "source": [
    "# Dependencies\n",
    "from splinter import Browser\n",
    "from bs4 import BeautifulSoup as bs\n",
    "import time\n",
    "import pandas as pd\n",
    "import requests\n",
    "import re\n",
    "import pymongo"
   ]
  },
  {
   "cell_type": "code",
   "execution_count": 2,
   "metadata": {},
   "outputs": [],
   "source": [
    "# Open incognito browser tab\n",
    "def open_browser():\n",
    "    url_exe = \"Missions_to_Mars/chromedriver.exe\"\n",
    "    executable_path = {\"executable_path\":url_exe }\n",
    "    return Browser(\"chrome\", **executable_path, headless=False, incognito=True)"
   ]
  },
  {
   "cell_type": "code",
   "execution_count": 3,
   "metadata": {},
   "outputs": [],
   "source": [
    "# init MongoDB connection\n",
    "conn = 'mongodb://localhost:27017'\n",
    "client = pymongo.MongoClient(conn)\n",
    "# Define database and collection\n",
    "db = client.news_db\n",
    "collection = db.items"
   ]
  },
  {
   "cell_type": "code",
   "execution_count": 4,
   "metadata": {
    "tags": [
     "outputPrepend"
    ]
   },
   "outputs": [
    {
     "output_type": "stream",
     "name": "stdout",
     "text": "Air Deliveries Bring NASA's Perseverance Mars Rover Closer to Launch\nA NASA Wallops Flight Facility cargo plane transported more than two tons of equipment — including the rover's sample collection tubes — to Florida for this summer's liftoff.\n========================================\n"
    }
   ],
   "source": [
    "# URL to be scraped\n",
    "url = 'https://mars.nasa.gov/news'\n",
    "\n",
    "# Open browsing\n",
    "browser = open_browser()\n",
    "\n",
    "# Retrieve page with the requests module\n",
    "browser.visit(url)\n",
    "# Wait for the page to render\n",
    "time.sleep(3)\n",
    "# Get response\n",
    "response = requests.get(url)\n",
    "\n",
    "# Scraping page into Soupas HTML\n",
    "html = browser.html\n",
    "soup = bs(html, \"html.parser\")\n",
    "\n",
    "# Get latest news from page\n",
    "result = soup.find_all('div',class_='list_text')[0]\n",
    "\n",
    "# Get title\n",
    "news_title = result.find('div', class_='content_title').text\n",
    "print(news_title)\n",
    "# Get paragraph\n",
    "news_paragraph = result.find('div', class_='article_teaser_body').text\n",
    "print(news_paragraph)\n",
    "# Get date\n",
    "news_date = result.find(class_='list_date').text\n",
    "print(\"========================================\")\n",
    "\n",
    "# Closing the browser after scraping\n",
    "browser.quit()"
   ]
  },
  {
   "cell_type": "code",
   "execution_count": 5,
   "metadata": {},
   "outputs": [
    {
     "output_type": "stream",
     "name": "stdout",
     "text": "https://www.jpl.nasa.gov/spaceimages/images/wallpaper/PIA17652-1920x1200.jpg\n"
    }
   ],
   "source": [
    "# URL to be scraped\n",
    "main_url_jpl = \"https://www.jpl.nasa.gov/spaceimages/\"\n",
    "url_jpl_image = f\"{main_url_jpl}?search=&category=Mars\"\n",
    "full_url_jpl = f\"{main_url_jpl}images/wallpaper/\"\n",
    "\n",
    "# Open browsing\n",
    "browser = open_browser()\n",
    "\n",
    "# Visiting JPL Site\n",
    "browser.visit(url_jpl_image)\n",
    "time.sleep(3)\n",
    "\n",
    "# Scraping page into Soup\n",
    "html= browser.html\n",
    "soup= bs(html, \"html.parser\")\n",
    "\n",
    " # URL from current featured Image \n",
    "featured_image_info = soup.find('article', class_=\"carousel_item\")['style']\n",
    "\n",
    "# Finding the Image Name\n",
    "featured_image_name= (featured_image_info.split(\"wallpaper/\")[1]).split(\".jpg\")[0]\n",
    "\n",
    "# Creating the Featured Image URL\n",
    "featured_image_url= f\"{full_url_jpl}{featured_image_name}.jpg\"\n",
    "print(featured_image_url)\n",
    "\n",
    "# Closing the browser after scraping\n",
    "browser.quit()"
   ]
  },
  {
   "cell_type": "code",
   "execution_count": 6,
   "metadata": {},
   "outputs": [
    {
     "output_type": "stream",
     "name": "stdout",
     "text": "InSight sol 529 (2020-05-22) low -93.2ºC (-135.8ºF) high 0.6ºC (33.1ºF)\nwinds from the WNW at 4.6 m/s (10.3 mph) gusting to 15.5 m/s (34.6 mph)\npressure at 7.10 hPa\n"
    }
   ],
   "source": [
    "browser = open_browser()\n",
    "\n",
    "url_twitter = \"https://twitter.com/marswxreport?lang=en\"\n",
    "browser.visit(url_twitter)\n",
    "\n",
    "time.sleep(10)\n",
    "\n",
    "# Scraping page into Soup\n",
    "html= browser.html\n",
    "soup= bs(html, \"html.parser\")\n",
    "\n",
    "# Finding the latest Tweet about Mars Weather   \n",
    "mars_weather_tweet = soup.find_all('span', text = re.compile(r'(InSight*)'))[0].get_text()\n",
    "print(mars_weather_tweet)\n",
    "\n",
    "# Closing the browser after scraping\n",
    "browser.quit()"
   ]
  },
  {
   "cell_type": "code",
   "execution_count": 7,
   "metadata": {},
   "outputs": [
    {
     "output_type": "stream",
     "name": "stdout",
     "text": "<table border=\"1\" class=\"dataframe\">\n  <thead>\n    <tr style=\"text-align: right;\">\n      <th></th>\n      <th>Value</th>\n    </tr>\n    <tr>\n      <th>Description</th>\n      <th></th>\n    </tr>\n  </thead>\n  <tbody>\n    <tr>\n      <th>Equatorial Diameter:</th>\n      <td>6,792 km</td>\n    </tr>\n    <tr>\n      <th>Polar Diameter:</th>\n      <td>6,752 km</td>\n    </tr>\n    <tr>\n      <th>Mass:</th>\n      <td>6.39 × 10^23 kg (0.11 Earths)</td>\n    </tr>\n    <tr>\n      <th>Moons:</th>\n      <td>2 (Phobos &amp; Deimos)</td>\n    </tr>\n    <tr>\n      <th>Orbit Distance:</th>\n      <td>227,943,824 km (1.38 AU)</td>\n    </tr>\n    <tr>\n      <th>Orbit Period:</th>\n      <td>687 days (1.9 years)</td>\n    </tr>\n    <tr>\n      <th>Surface Temperature:</th>\n      <td>-87 to -5 °C</td>\n    </tr>\n    <tr>\n      <th>First Record:</th>\n      <td>2nd millennium BC</td>\n    </tr>\n    <tr>\n      <th>Recorded By:</th>\n      <td>Egyptian astronomers</td>\n    </tr>\n  </tbody>\n</table>\n"
    }
   ],
   "source": [
    "url_facts =\"https://space-facts.com/mars/\"\n",
    "\n",
    "\n",
    "# Getting the fact table\n",
    "tables = pd.read_html(url_facts)\n",
    "fact_table = pd.DataFrame(tables[0])\n",
    "\n",
    "fact_table = fact_table.rename(columns={\n",
    "    0 : \"Description\",\n",
    "    1 : \"Value\"\n",
    "})\n",
    "\n",
    "fact_table.set_index(\"Description\", inplace = True)\n",
    "\n",
    "# Creating the html Table\n",
    "table_html = fact_table.to_html()\n",
    "print(table_html)\n",
    "# Cleaning the table\n",
    "#table_html= table_html.replace('\\n',\"\")"
   ]
  },
  {
   "cell_type": "code",
   "execution_count": 10,
   "metadata": {},
   "outputs": [],
   "source": [
    "browser = open_browser()\n",
    "\n",
    "#----------Scraping Mars Hemispheres images URL from USGS Astrogeology Site -------------------------#  \n",
    "url_full_img = \"https://astropedia.astrogeology.usgs.gov/download/Mars/Viking/\"\n",
    "url_usgs = \"https://astrogeology.usgs.gov/search/results?q=hemisphere+enhanced&k1=target&v1=Mars\"\n",
    "browser.visit(url_usgs)\n",
    "\n",
    "time.sleep(4)\n",
    "\n",
    "# Scraping page into Soup\n",
    "html= browser.html\n",
    "soup= bs(html, \"html.parser\")\n",
    "\n",
    "urls_img = []\n",
    "results = soup.find_all(\"div\", class_=\"item\")\n",
    "# Finding the URL of each Hemispheres Images\n",
    "for result in results:\n",
    "    title = result.find('h3').get_text().split(\"Enhanced\")[0]\n",
    "    result = result.find('a')[\"href\"].split(\"Viking/\")[1]\n",
    "    result = f\"{url_full_img}{result}.tif/full.jpg\"\n",
    "    browser.visit(result)\n",
    "    item_img = {\n",
    "        'title' : title,\n",
    "        'img_rul' : result\n",
    "    }\n",
    "    \n",
    "    urls_img.append(item_img)  \n",
    "    # img validation\n",
    "    time.sleep(2)\n",
    "\n",
    "# Closing the browser after scraping\n",
    "browser.quit()"
   ]
  },
  {
   "cell_type": "code",
   "execution_count": 9,
   "metadata": {},
   "outputs": [
    {
     "output_type": "stream",
     "name": "stdout",
     "text": "{'title': \"Air Deliveries Bring NASA's Perseverance Mars Rover Closer to Launch\", 'paragraph': \"A NASA Wallops Flight Facility cargo plane transported more than two tons of equipment — including the rover's sample collection tubes — to Florida for this summer's liftoff.\", 'date': 'May 21, 2020', 'img_rul': 'https://www.jpl.nasa.gov/spaceimages/images/wallpaper/PIA17652-1920x1200.jpg', 'tweet': 'InSight sol 529 (2020-05-22) low -93.2ºC (-135.8ºF) high 0.6ºC (33.1ºF)\\nwinds from the WNW at 4.6 m/s (10.3 mph) gusting to 15.5 m/s (34.6 mph)\\npressure at 7.10 hPa', 'table_data': '<table border=\"1\" class=\"dataframe\">\\n  <thead>\\n    <tr style=\"text-align: right;\">\\n      <th></th>\\n      <th>Value</th>\\n    </tr>\\n    <tr>\\n      <th>Description</th>\\n      <th></th>\\n    </tr>\\n  </thead>\\n  <tbody>\\n    <tr>\\n      <th>Equatorial Diameter:</th>\\n      <td>6,792 km</td>\\n    </tr>\\n    <tr>\\n      <th>Polar Diameter:</th>\\n      <td>6,752 km</td>\\n    </tr>\\n    <tr>\\n      <th>Mass:</th>\\n      <td>6.39 × 10^23 kg (0.11 Earths)</td>\\n    </tr>\\n    <tr>\\n      <th>Moons:</th>\\n      <td>2 (Phobos &amp; Deimos)</td>\\n    </tr>\\n    <tr>\\n      <th>Orbit Distance:</th>\\n      <td>227,943,824 km (1.38 AU)</td>\\n    </tr>\\n    <tr>\\n      <th>Orbit Period:</th>\\n      <td>687 days (1.9 years)</td>\\n    </tr>\\n    <tr>\\n      <th>Surface Temperature:</th>\\n      <td>-87 to -5 °C</td>\\n    </tr>\\n    <tr>\\n      <th>First Record:</th>\\n      <td>2nd millennium BC</td>\\n    </tr>\\n    <tr>\\n      <th>Recorded By:</th>\\n      <td>Egyptian astronomers</td>\\n    </tr>\\n  </tbody>\\n</table>', 'urls_img': []}\n"
    },
    {
     "output_type": "execute_result",
     "data": {
      "text/plain": "<pymongo.results.InsertOneResult at 0xb818be8>"
     },
     "metadata": {},
     "execution_count": 9
    }
   ],
   "source": [
    "# Store result as Dictionary into MongoDB\n",
    "\n",
    "newItem = {\n",
    "    'title': news_title,\n",
    "    'paragraph': news_paragraph,\n",
    "    'date': news_date,\n",
    "    'img_rul': featured_image_url,\n",
    "    'tweet' : mars_weather_tweet,\n",
    "    'table_data' : table_html,\n",
    "    'urls_img' : urls_img\n",
    "}\n",
    "\n",
    "print(newItem)\n",
    "# Persist data into MongoDB\n",
    "collection.insert_one(newItem)"
   ]
  },
  {
   "cell_type": "code",
   "execution_count": 11,
   "metadata": {},
   "outputs": [
    {
     "output_type": "stream",
     "name": "stdout",
     "text": "[{'title': 'Cerberus Hemisphere ', 'img_rul': 'https://astropedia.astrogeology.usgs.gov/download/Mars/Viking/cerberus_enhanced.tif/full.jpg'}, {'title': 'Schiaparelli Hemisphere ', 'img_rul': 'https://astropedia.astrogeology.usgs.gov/download/Mars/Viking/schiaparelli_enhanced.tif/full.jpg'}, {'title': 'Syrtis Major Hemisphere ', 'img_rul': 'https://astropedia.astrogeology.usgs.gov/download/Mars/Viking/syrtis_major_enhanced.tif/full.jpg'}, {'title': 'Valles Marineris Hemisphere ', 'img_rul': 'https://astropedia.astrogeology.usgs.gov/download/Mars/Viking/valles_marineris_enhanced.tif/full.jpg'}]\n"
    }
   ],
   "source": [
    "print(urls_img)"
   ]
  }
 ],
 "metadata": {
  "language_info": {
   "codemirror_mode": {
    "name": "ipython",
    "version": 3
   },
   "file_extension": ".py",
   "mimetype": "text/x-python",
   "name": "python",
   "nbconvert_exporter": "python",
   "pygments_lexer": "ipython3",
   "version": "3.8.0-final"
  },
  "orig_nbformat": 2,
  "kernelspec": {
   "name": "python38032bit798b70efccf64792ad18789d36a7aab9",
   "display_name": "Python 3.8.0 32-bit"
  }
 },
 "nbformat": 4,
 "nbformat_minor": 2
}